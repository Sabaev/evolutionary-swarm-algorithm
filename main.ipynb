{
 "cells": [
  {
   "cell_type": "markdown",
   "metadata": {},
   "source": [
    "# Курсач по ЭМППИС"
   ]
  },
  {
   "cell_type": "code",
   "execution_count": 1,
   "metadata": {},
   "outputs": [],
   "source": [
    "import random\n",
    "import numpy as np\n",
    "import copy\n",
    "from matplotlib import pyplot as plt\n",
    "%matplotlib inline"
   ]
  },
  {
   "cell_type": "markdown",
   "metadata": {},
   "source": [
    "## Таблица"
   ]
  },
  {
   "cell_type": "code",
   "execution_count": 2,
   "metadata": {},
   "outputs": [
    {
     "name": "stdout",
     "output_type": "stream",
     "text": [
      "[(21000, 50000), (50000, 84000), (786000, 987000), (97000, 156000), (125000, 239000), (1008000, 1383000), (902000, 115800), (462000, 96000), (465000, 790000), (545000, 908000), (311000, 396000), (675000, 984000), (128000, 189000), (105000, 103000), (215000, 285000), (31000, 70000), (42000, 90000), (78000, 73000)]\n",
      "[(902000, 115800), (50000, 84000), (462000, 96000), (465000, 790000), (786000, 987000), (21000, 50000)]\n",
      "[(125000, 239000), (128000, 189000), (105000, 103000), (215000, 285000), (311000, 396000), (42000, 90000), (97000, 156000), (1008000, 1383000), (545000, 908000), (31000, 70000), (78000, 73000), (675000, 984000)]\n"
     ]
    }
   ],
   "source": [
    "Table = [\n",
    "# (902000, 30000, 1158000, 1340202),\n",
    "# (462000, 200000, 960000, 841616),\n",
    "# (465000, 190000, 790000, 850112),\n",
    "# (545000, 200000, 9098000, 949828),\n",
    "# (311000, 350000, 396000, 566580),\n",
    "# (675000, 29000, 984000, 1072609),\n",
    "# (128000, 26000, 189000, 326461),\n",
    "# (105000, 340000, 103000, 250755),\n",
    "# (215000, 310000, 285000, 443086),\n",
    "# (31000, 62000, 70000, 144563),\n",
    "# (42000, 190000, 90000, 199759),\n",
    "# (78000, 310000, 73000, 215763),\n",
    "# (21000, 280000, 50000, 112703),\n",
    "\n",
    "# (50000, 290000, 84000, 170887),\n",
    "# (786000, 350000, 987000, 1180378),\n",
    "# (97000, 270000, 156000, 268312),\n",
    "# (125000, 270000, 239000, 316864),\n",
    "# (1008000, 340000, 1383000, 1444587),\n",
    "#     (1, 1.5),\n",
    "#     (2, 12),\n",
    "#     (3, 40.5),\n",
    "#     (4, 96),\n",
    "#     (5, 187.5),\n",
    "#     (6, 324),\n",
    "#     (7, 514.5),\n",
    "#     (8, 768),\n",
    "#     (9, 1093.5),\n",
    "#     (10, 1500),\n",
    "#     (11, 1996.5),\n",
    "#     (12, 2592),\n",
    "#     (13, 3295.5),\n",
    "#     (14, 4116),\n",
    "#     (15, 5062.5),\n",
    "#     (16, 6144),\n",
    "#     (17, 7369.5),\n",
    "#     (18, 8748),\n",
    "#     (19, 10288.5),\n",
    "#     (20, 12000),\n",
    "#     (21, 13891.5),\n",
    "#     (22, 15972),\n",
    "#     (23, 18250.5),\n",
    "#     (24, 20736),\n",
    "#     (25, 23437.5),\n",
    "#     (26, 26364),\n",
    "#     (27, 29524.5),\n",
    "#     (28, 32928),\n",
    "#     (29, 36583.5),\n",
    "#     (30, 40500),\n",
    "    \n",
    "#     (25.9, 117.6),\n",
    "#     (24.6, 117.6),\n",
    "#     (7.7, 31.2),\n",
    "#     (8.2, 36),\n",
    "#     (9.7, 25.2),\n",
    "#     (2.2, 8.4),\n",
    "#     (3.5, 10.8),\n",
    "#     (66.6, 352.8),\n",
    "#     (7.5, 72),\n",
    "#     (20, 72),\n",
    "#     (6, 24),\n",
    "#     (100, 360),\n",
    "#     (11.3, 36),\n",
    "#     (100, 215),\n",
    "#     (20, 48),\n",
    "#     (100, 360),\n",
    "#     (150, 324),\n",
    "#     (31.5, 60),\n",
    "#     (15, 48),\n",
    "#     (32.5, 60),\n",
    "#     (19.7, 60),\n",
    "#     (66.6, 300),\n",
    "#     (29.5, 120),\n",
    "#     (15, 90),\n",
    "#     (38, 210),\n",
    "#     (10, 48),\n",
    "#     (15.4, 70),\n",
    "#     (48.5, 239),\n",
    "#     (16.3, 82),\n",
    "#     (12.8, 62),\n",
    "#     (32.6, 170),\n",
    "#     (35.5, 192),\n",
    "#     (5.5, 18),\n",
    "#     (10.4, 50),\n",
    "#     (14, 60),\n",
    "#     (6.5, 42),\n",
    "#     (13, 60),\n",
    "#     (90, 444),\n",
    "#     (8, 42),\n",
    "#     (16, 114),\n",
    "#     (177.9, 1248),\n",
    "#     (302, 2400),\n",
    "#     (282.1, 1368),\n",
    "#     (284.7, 973),\n",
    "#     (79, 400),\n",
    "#     (423, 2400),\n",
    "#     (190, 420),\n",
    "#     (47.5, 252),\n",
    "#     (21, 107),\n",
    "#     (78, 571.4),\n",
    "#     (11.4, 98.8),\n",
    "#     (19.3, 155),\n",
    "#     (101, 750),\n",
    "#     (219, 2120),\n",
    "#     (50, 370),\n",
    "#     (227, 1181),\n",
    "#     (70, 278),\n",
    "#     (0.9, 8.4),\n",
    "#     (980, 4560),\n",
    "#     (350, 720),\n",
    "#     (70, 458),\n",
    "#     (271, 2460),\n",
    "#     (90, 162),\n",
    "#     (40, 150),\n",
    "#     (137, 636),\n",
    "#     (150, 882),\n",
    "#     (339, 444),\n",
    "#     (240, 192),\n",
    "#     (144, 576),\n",
    "#     (151, 432),\n",
    "#     (34, 72),\n",
    "#     (98, 300),\n",
    "#     (85, 300),\n",
    "#     (20, 240),\n",
    "#     (111, 600),\n",
    "#     (162, 756),\n",
    "#     (352, 1200),\n",
    "#     (165, 97),\n",
    "#     (60, 409),\n",
    "#     (100, 703),\n",
    "#     (32, 1350),\n",
    "#     (53, 480),\n",
    "#     (41, 599),\n",
    "#     (24, 430),\n",
    "#     (165, 4178.2),\n",
    "#     (65, 1772.5),\n",
    "#     (70, 1645.9),\n",
    "#     (50, 1924.5),\n",
    "#     (7.25, 648),\n",
    "#     (233, 8211),\n",
    "#     (16.3, 480),\n",
    "#     (6.2, 12),\n",
    "#     (3, 38),\n",
    "    (21000, 50000),\n",
    "    (50000, 84000),\n",
    "    (786000, 987000),\n",
    "    (97000, 156000),\n",
    "    (125000, 239000),\n",
    "    (1008000, 1383000),\n",
    "    (902000, 115800),\n",
    "    (462000, 96000),\n",
    "    (465000, 790000),\n",
    "    (545000, 908000),\n",
    "    (311000, 396000),\n",
    "    (675000, 984000),\n",
    "    (128000, 189000),\n",
    "    (105000, 103000),\n",
    "    (215000, 285000),\n",
    "    (31000, 70000),\n",
    "    (42000, 90000),\n",
    "    (78000, 73000),\n",
    "    \n",
    "]\n",
    "print(Table)\n",
    "# Удалить повторяющиеся элементы\n",
    "Table = list(set(Table))\n",
    "# Граница 70/30\n",
    "border = int(len(Table)*0.7)\n",
    "test = Table[border:]\n",
    "train = Table[:border]\n",
    "print(test)\n",
    "print(train)"
   ]
  },
  {
   "cell_type": "markdown",
   "metadata": {},
   "source": [
    "## Фитнес функция"
   ]
  },
  {
   "cell_type": "code",
   "execution_count": 3,
   "metadata": {},
   "outputs": [],
   "source": [
    "# Манхэттен – метрика городских кварталов\n",
    "def MD(x, T=train):\n",
    "    s = 0.0\n",
    "    for el in T:\n",
    "        s += abs(x[0] * el[0] ** x[1] - el[1])\n",
    "        # print(x[0], x[1],el[0] ** x[1] - el[1], s)\n",
    "    return s\n",
    "# def MD(x, T=train,verbose=False):\n",
    "#     s = 0.0\n",
    "#     if verbose:\n",
    "#         print(\"REAL\", \"COCOMO\", \"RA\", \"MD\")\n",
    "#         for el in T:\n",
    "#             F=x[0] * (el[0] ** x[1])*el[1]\n",
    "#             md=abs(F - el[2])\n",
    "#             s += md \n",
    "#             print(el[2], el[3], F, md)\n",
    "\n",
    "#     else:\n",
    "#         for el in T:\n",
    "#             s += abs(x[0] * (el[0] ** x[1])*el[1] - el[2])\n",
    "#     # print(x[0], x[1],el[0] ** x[1] - el[1], s)\n",
    "#     return s"
   ]
  },
  {
   "cell_type": "markdown",
   "metadata": {},
   "source": [
    "## Генератор рандомных значений"
   ]
  },
  {
   "cell_type": "code",
   "execution_count": 4,
   "metadata": {},
   "outputs": [],
   "source": [
    "def generate(N, lb=0.0, rb=10.0):\n",
    "    r = []\n",
    "    for i in range(N):\n",
    "        r.append((random.uniform(lb, rb), random.uniform(lb, rb)))\n",
    "\n",
    "    return r"
   ]
  },
  {
   "cell_type": "markdown",
   "metadata": {},
   "source": [
    "## Роевой алгоритм"
   ]
  },
  {
   "cell_type": "code",
   "execution_count": 5,
   "metadata": {},
   "outputs": [],
   "source": [
    "# N - кол-во особей\n",
    "# T - кол-во поколений\n",
    "# c1,c2 - ветер\n",
    "def ra(N=70, T=200, c1=1, c2=1):\n",
    "    Y = np.array(generate(N))\n",
    "    X = Y.copy()\n",
    "    # X = Y\n",
    "    ymax = copy.copy(Y[0])\n",
    "    v = [0] * N\n",
    "\n",
    "    x0 = []\n",
    "    x1 = []\n",
    "\n",
    "    for i in range(T):\n",
    "        x0.append(i)\n",
    "        x1.append(MD(ymax))\n",
    "        for j in range(N):\n",
    "            if MD(X[j]) < MD(Y[j]):\n",
    "                Y[j] = X[j]\n",
    "\n",
    "            if MD(Y[j]) < MD(ymax):\n",
    "                ymax = Y[j]\n",
    "                # ymax = copy.copy(Y[j])\n",
    "                # print(MD(ymax))\n",
    "\n",
    "        for j in range(N):\n",
    "            v[j] = v[j] + c1 * random.uniform(0.0, 1.0) * (Y[j] - X[j]) + c2 * random.uniform(0.0, 1.0) * (ymax - X[j])\n",
    "            X[j] = X[j] + v[j]\n",
    "\n",
    "    x0.append(T+1)\n",
    "    x1.append(MD(ymax))\n",
    "    return [ymax,x0,x1]"
   ]
  },
  {
   "cell_type": "code",
   "execution_count": 6,
   "metadata": {},
   "outputs": [
    {
     "name": "stderr",
     "output_type": "stream",
     "text": [
      "/home/diamon/anaconda3/lib/python3.6/site-packages/ipykernel_launcher.py:5: RuntimeWarning: overflow encountered in double_scalars\n",
      "  \"\"\"\n"
     ]
    },
    {
     "name": "stdout",
     "output_type": "stream",
     "text": [
      "[0.99459901 1.02720453] 2060428.4971592524\n"
     ]
    },
    {
     "data": {
      "text/plain": [
       "[<matplotlib.lines.Line2D at 0x7f6d0257d898>]"
      ]
     },
     "execution_count": 6,
     "metadata": {},
     "output_type": "execute_result"
    },
    {
     "data": {
      "image/png": "[encoded data removed]",
      "text/plain": [
       "<Figure size 432x288 with 1 Axes>"
      ]
     },
     "metadata": {
      "needs_background": "light"
     },
     "output_type": "display_data"
    }
   ],
   "source": [
    "maximum, x0, x1 = ra(70, 200)\n",
    "print(maximum, MD(maximum, test))\n",
    "plt.plot(x0,x1)"
   ]
  },
  {
   "cell_type": "code",
   "execution_count": null,
   "metadata": {},
   "outputs": [],
   "source": []
  }
 ],
 "metadata": {
  "kernelspec": {
   "display_name": "Python 3",
   "language": "python",
   "name": "python3"
  },
  "language_info": {
   "codemirror_mode": {
    "name": "ipython",
    "version": 3
   },
   "file_extension": ".py",
   "mimetype": "text/x-python",
   "name": "python",
   "nbconvert_exporter": "python",
   "pygments_lexer": "ipython3",
   "version": "3.6.8"
  }
 },
 "nbformat": 4,
 "nbformat_minor": 2
}
